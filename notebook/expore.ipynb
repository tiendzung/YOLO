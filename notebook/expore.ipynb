{
 "cells": [
  {
   "cell_type": "code",
   "execution_count": 6,
   "metadata": {},
   "outputs": [],
   "source": [
    "import torch\n",
    "\n",
    "l = []\n",
    "for i in range(5):\n",
    "    l.append(torch.randn(2,3))"
   ]
  },
  {
   "cell_type": "code",
   "execution_count": 17,
   "metadata": {},
   "outputs": [],
   "source": [
    "def f(a):\n",
    "    return a"
   ]
  },
  {
   "cell_type": "code",
   "execution_count": 18,
   "metadata": {},
   "outputs": [
    {
     "name": "stdout",
     "output_type": "stream",
     "text": [
      "tensor([[[-0.4251,  0.0034, -0.5901,  0.7571, -0.7382],\n",
      "         [ 0.7717, -0.6575,  1.7376, -1.5706, -1.1512],\n",
      "         [ 0.2641, -1.3054, -0.3963,  0.7392, -0.2867],\n",
      "         [-0.4492,  0.6661,  0.7378, -1.3840, -0.7549]],\n",
      "\n",
      "        [[ 0.7605,  0.9529, -1.7958,  0.2337,  0.0977],\n",
      "         [-1.0595, -0.2311,  0.5171,  0.2542, -0.4477],\n",
      "         [-0.4541,  0.9002,  0.1228,  0.3227,  2.6733],\n",
      "         [ 0.4577,  1.1491, -0.0227, -0.3951,  0.2788]],\n",
      "\n",
      "        [[ 0.7942,  0.0143,  0.3223, -0.1098, -0.1269],\n",
      "         [-1.3521,  0.6681, -1.2112, -0.9647, -0.3525],\n",
      "         [-0.5290,  0.0781,  0.3802, -0.3336, -1.4807],\n",
      "         [ 0.4427, -1.2064,  0.5577, -2.3650,  0.3042]]])\n",
      "tensor([[-0.5901,  1.7376, -0.3963,  0.7378],\n",
      "        [-1.7958,  0.5171,  0.1228, -0.0227],\n",
      "        [ 0.3223, -1.2112,  0.3802,  0.5577]])\n",
      "tensor([[-0.5901,  1.7376, -0.3963,  0.7378],\n",
      "        [-1.7958,  0.5171,  0.1228, -0.0227],\n",
      "        [ 0.3223, -1.2112,  0.3802,  0.5577]])\n",
      "torch.Size([3, 4])\n"
     ]
    }
   ],
   "source": [
    "a = torch.randn(3,4,5)\n",
    "print(a)\n",
    "print(a[...,2])\n",
    "print(f(a[...,2]))\n",
    "print(a[...,2].shape)"
   ]
  },
  {
   "cell_type": "code",
   "execution_count": null,
   "metadata": {},
   "outputs": [],
   "source": []
  }
 ],
 "metadata": {
  "kernelspec": {
   "display_name": "facial",
   "language": "python",
   "name": "python3"
  },
  "language_info": {
   "codemirror_mode": {
    "name": "ipython",
    "version": 3
   },
   "file_extension": ".py",
   "mimetype": "text/x-python",
   "name": "python",
   "nbconvert_exporter": "python",
   "pygments_lexer": "ipython3",
   "version": "3.9.16"
  },
  "orig_nbformat": 4
 },
 "nbformat": 4,
 "nbformat_minor": 2
}
