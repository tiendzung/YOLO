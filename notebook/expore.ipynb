{
 "cells": [
  {
   "cell_type": "code",
   "execution_count": 2,
   "metadata": {},
   "outputs": [],
   "source": [
    "import torch\n",
    "\n",
    "l = []\n",
    "for i in range(5):\n",
    "    l.append(torch.randn(2,3))"
   ]
  },
  {
   "cell_type": "code",
   "execution_count": 17,
   "metadata": {},
   "outputs": [],
   "source": [
    "def f(a):\n",
    "    return a"
   ]
  },
  {
   "cell_type": "code",
   "execution_count": 21,
   "metadata": {},
   "outputs": [
    {
     "name": "stdout",
     "output_type": "stream",
     "text": [
      "torch.Size([4, 3, 4])\n",
      "torch.Size([4, 3, 4])\n"
     ]
    }
   ],
   "source": [
    "arr = [torch.randn(2,3,4), torch.randn(2,3,4)]\n",
    "print(torch.cat(arr, dim=0).shape)\n",
    "t = torch.randn(2,3,4)\n",
    "print(torch.cat((t, t), dim=0).shape)"
   ]
  },
  {
   "cell_type": "code",
   "execution_count": 18,
   "metadata": {},
   "outputs": [
    {
     "name": "stdout",
     "output_type": "stream",
     "text": [
      "tensor([[[-0.4251,  0.0034, -0.5901,  0.7571, -0.7382],\n",
      "         [ 0.7717, -0.6575,  1.7376, -1.5706, -1.1512],\n",
      "         [ 0.2641, -1.3054, -0.3963,  0.7392, -0.2867],\n",
      "         [-0.4492,  0.6661,  0.7378, -1.3840, -0.7549]],\n",
      "\n",
      "        [[ 0.7605,  0.9529, -1.7958,  0.2337,  0.0977],\n",
      "         [-1.0595, -0.2311,  0.5171,  0.2542, -0.4477],\n",
      "         [-0.4541,  0.9002,  0.1228,  0.3227,  2.6733],\n",
      "         [ 0.4577,  1.1491, -0.0227, -0.3951,  0.2788]],\n",
      "\n",
      "        [[ 0.7942,  0.0143,  0.3223, -0.1098, -0.1269],\n",
      "         [-1.3521,  0.6681, -1.2112, -0.9647, -0.3525],\n",
      "         [-0.5290,  0.0781,  0.3802, -0.3336, -1.4807],\n",
      "         [ 0.4427, -1.2064,  0.5577, -2.3650,  0.3042]]])\n",
      "tensor([[-0.5901,  1.7376, -0.3963,  0.7378],\n",
      "        [-1.7958,  0.5171,  0.1228, -0.0227],\n",
      "        [ 0.3223, -1.2112,  0.3802,  0.5577]])\n",
      "tensor([[-0.5901,  1.7376, -0.3963,  0.7378],\n",
      "        [-1.7958,  0.5171,  0.1228, -0.0227],\n",
      "        [ 0.3223, -1.2112,  0.3802,  0.5577]])\n",
      "torch.Size([3, 4])\n"
     ]
    }
   ],
   "source": [
    "a = torch.randn(3,4,5)\n",
    "print(a)\n",
    "print(a[...,2])\n",
    "print(f(a[...,2]))\n",
    "print(a[...,2].shape)"
   ]
  },
  {
   "cell_type": "code",
   "execution_count": 98,
   "metadata": {},
   "outputs": [
    {
     "name": "stdout",
     "output_type": "stream",
     "text": [
      "torch.Size([4, 5])\n",
      "tensor([[[False, False,  True, False, False],\n",
      "         [False,  True, False, False, False],\n",
      "         [False,  True, False, False, False],\n",
      "         [ True, False,  True, False, False]],\n",
      "\n",
      "        [[False,  True, False, False,  True],\n",
      "         [ True, False,  True,  True, False],\n",
      "         [False, False,  True, False,  True],\n",
      "         [False,  True, False, False,  True]],\n",
      "\n",
      "        [[ True, False, False,  True, False],\n",
      "         [False, False, False, False,  True],\n",
      "         [ True, False, False,  True, False],\n",
      "         [False, False, False,  True, False]]])\n"
     ]
    }
   ],
   "source": [
    "ts = torch.randn(3,4,5)\n",
    "res, id = torch.max(ts, dim = 0)\n",
    "print(res.shape)\n",
    "res, id = torch.max(ts, dim = 0)\n",
    "print(res == ts)"
   ]
  },
  {
   "cell_type": "code",
   "execution_count": 55,
   "metadata": {},
   "outputs": [
    {
     "ename": "RuntimeError",
     "evalue": "The size of tensor a (4) must match the size of tensor b (3) at non-singleton dimension 2",
     "output_type": "error",
     "traceback": [
      "\u001b[0;31m---------------------------------------------------------------------------\u001b[0m",
      "\u001b[0;31mRuntimeError\u001b[0m                              Traceback (most recent call last)",
      "Cell \u001b[0;32mIn[55], line 4\u001b[0m\n\u001b[1;32m      1\u001b[0m a \u001b[39m=\u001b[39m torch\u001b[39m.\u001b[39mrandn(\u001b[39m2\u001b[39m,\u001b[39m3\u001b[39m,\u001b[39m4\u001b[39m,\u001b[39m1\u001b[39m)\n\u001b[1;32m      2\u001b[0m b \u001b[39m=\u001b[39m torch\u001b[39m.\u001b[39mrandn(\u001b[39m2\u001b[39m,\u001b[39m3\u001b[39m,\u001b[39m4\u001b[39m)\n\u001b[0;32m----> 4\u001b[0m \u001b[39mprint\u001b[39m(a\u001b[39m*\u001b[39;49mb)\n",
      "\u001b[0;31mRuntimeError\u001b[0m: The size of tensor a (4) must match the size of tensor b (3) at non-singleton dimension 2"
     ]
    }
   ],
   "source": [
    "a = torch.randn(2,3,4,1)\n",
    "b = torch.randn(2,3,4)\n",
    "\n",
    "print(a*b)"
   ]
  },
  {
   "cell_type": "code",
   "execution_count": 52,
   "metadata": {},
   "outputs": [
    {
     "name": "stdout",
     "output_type": "stream",
     "text": [
      "[0 1]\n"
     ]
    }
   ],
   "source": [
    "import numpy as np\n",
    "a = np.array([0,1])\n",
    "b = a.copy()\n",
    "b[0] = 3\n",
    "print(a)"
   ]
  },
  {
   "cell_type": "code",
   "execution_count": 67,
   "metadata": {},
   "outputs": [
    {
     "name": "stdout",
     "output_type": "stream",
     "text": [
      "torch.Size([24, 5])\n",
      "torch.Size([2, 3, 4])\n"
     ]
    }
   ],
   "source": [
    "a = torch.randn(2,3,4,5)\n",
    "print(torch.flatten(a, end_dim = -2).shape)\n",
    "print(a[...,2].shape)"
   ]
  },
  {
   "cell_type": "code",
   "execution_count": 94,
   "metadata": {},
   "outputs": [
    {
     "name": "stdout",
     "output_type": "stream",
     "text": [
      "tensor(2.0014, grad_fn=<MseLossBackward0>)\n",
      "tensor(2.0014, grad_fn=<MseLossBackward0>)\n"
     ]
    }
   ],
   "source": [
    "import torch.nn as nn\n",
    "loss = nn.MSELoss(reduction=\"mean\")\n",
    "input = torch.randn(10,30,70,80,5, requires_grad=True)\n",
    "target = torch.randn(10,30,70,80,5)\n",
    "\n",
    "\n",
    "output = loss(input, target)\n",
    "print(output)\n",
    "output = loss(input.reshape(10,-1), target.reshape(10,-1))\n",
    "print(output)\n"
   ]
  },
  {
   "cell_type": "code",
   "execution_count": 95,
   "metadata": {},
   "outputs": [
    {
     "data": {
      "text/plain": [
       "[0.9, 0.8, 0.9, 0.1, 0.9]"
      ]
     },
     "execution_count": 95,
     "metadata": {},
     "output_type": "execute_result"
    }
   ],
   "source": [
    "a=[[0.9, 0.45, 0.4, 0.35],[0.4, 0.8, 0.3, 0.25],[0.5, 0.45, 0.9, 0.35],[0.2, 0.18, 0.8, 0.1],[0.6, 0.45, 0.4, 0.9]]\n",
    "b=[0,1,2,3,3]\n",
    "[i[j] for i,j in zip(a,b)]"
   ]
  },
  {
   "cell_type": "code",
   "execution_count": 115,
   "metadata": {},
   "outputs": [
    {
     "name": "stdout",
     "output_type": "stream",
     "text": [
      "tensor([[[[False, False, False, False, False, False],\n",
      "          [False, False, False, False, False, False],\n",
      "          [False, False, False, False, False, False],\n",
      "          [False, False, False, False, False, False],\n",
      "          [False, False, False, False, False, False]],\n",
      "\n",
      "         [[False, False, False, False, False, False],\n",
      "          [False, False, False, False, False, False],\n",
      "          [False, False, False, False, False, False],\n",
      "          [False, False, False, False, False, False],\n",
      "          [False, False, False, False, False, False]],\n",
      "\n",
      "         [[False, False, False, False, False, False],\n",
      "          [False, False, False, False, False, False],\n",
      "          [False, False, False, False, False, False],\n",
      "          [False, False, False, False, False, False],\n",
      "          [False, False, False, False, False, False]],\n",
      "\n",
      "         [[False, False, False, False, False, False],\n",
      "          [False, False, False, False, False, False],\n",
      "          [False, False, False, False, False, False],\n",
      "          [False, False, False, False, False, False],\n",
      "          [False, False, False, False, False, False]]],\n",
      "\n",
      "\n",
      "        [[[False, False, False, False, False, False],\n",
      "          [False, False, False, False, False, False],\n",
      "          [False, False, False, False, False, False],\n",
      "          [False, False, False, False, False, False],\n",
      "          [False, False, False, False, False, False]],\n",
      "\n",
      "         [[False, False, False, False, False, False],\n",
      "          [False, False, False, False, False, False],\n",
      "          [False, False, False, False, False, False],\n",
      "          [False, False, False, False, False, False],\n",
      "          [False, False, False, False, False, False]],\n",
      "\n",
      "         [[False, False, False, False, False, False],\n",
      "          [False, False, False, False, False, False],\n",
      "          [False, False, False, False, False, False],\n",
      "          [False, False, False, False, False, False],\n",
      "          [False, False, False, False, False, False]],\n",
      "\n",
      "         [[False, False, False, False, False, False],\n",
      "          [False, False, False, False, False, False],\n",
      "          [False, False, False, False, False, False],\n",
      "          [False, False, False, False, False, False],\n",
      "          [False, False, False, False, False, False]]],\n",
      "\n",
      "\n",
      "        [[[False, False, False, False, False, False],\n",
      "          [False, False, False, False, False, False],\n",
      "          [False, False, False, False, False, False],\n",
      "          [False, False, False, False, False, False],\n",
      "          [False, False, False, False, False, False]],\n",
      "\n",
      "         [[False, False, False, False, False, False],\n",
      "          [False, False, False, False, False, False],\n",
      "          [False, False, False, False, False, False],\n",
      "          [False, False, False, False, False, False],\n",
      "          [False, False, False, False, False, False]],\n",
      "\n",
      "         [[False, False, False, False, False, False],\n",
      "          [False, False, False, False, False, False],\n",
      "          [False, False, False, False, False, False],\n",
      "          [False, False, False, False, False, False],\n",
      "          [False, False, False, False, False, False]],\n",
      "\n",
      "         [[False, False, False, False, False, False],\n",
      "          [False, False, False, False, False, False],\n",
      "          [False, False, False, False, False, False],\n",
      "          [False, False, False, False, False, False],\n",
      "          [False, False, False, False, False, False]]],\n",
      "\n",
      "\n",
      "        [[[False, False, False, False, False, False],\n",
      "          [False, False, False, False, False, False],\n",
      "          [False, False, False, False, False, False],\n",
      "          [False, False, False, False, False, False],\n",
      "          [False, False, False, False, False, False]],\n",
      "\n",
      "         [[False, False, False, False, False, False],\n",
      "          [False, False, False, False, False, False],\n",
      "          [False, False, False, False, False, False],\n",
      "          [False, False, False, False, False, False],\n",
      "          [False, False, False, False, False, False]],\n",
      "\n",
      "         [[False, False, False, False, False, False],\n",
      "          [False, False, False, False, False, False],\n",
      "          [False, False, False, False, False, False],\n",
      "          [False, False, False, False, False, False],\n",
      "          [False, False, False, False, False, False]],\n",
      "\n",
      "         [[False, False, False, False, False, False],\n",
      "          [False, False, False, False, False, False],\n",
      "          [False, False, False, False, False, False],\n",
      "          [False, False, False, False, False, False],\n",
      "          [False, False, False, False, False, False]]],\n",
      "\n",
      "\n",
      "        [[[False, False, False, False, False, False],\n",
      "          [False, False, False, False, False, False],\n",
      "          [False, False, False, False, False, False],\n",
      "          [False, False, False, False, False, False],\n",
      "          [False, False, False, False, False, False]],\n",
      "\n",
      "         [[False, False, False, False, False, False],\n",
      "          [False, False, False, False, False, False],\n",
      "          [False, False, False, False, False, False],\n",
      "          [False, False, False, False, False, False],\n",
      "          [False, False, False, False, False, False]],\n",
      "\n",
      "         [[False, False, False, False, False, False],\n",
      "          [False, False, False, False, False, False],\n",
      "          [False, False, False, False, False, False],\n",
      "          [False, False, False, False, False, False],\n",
      "          [False, False, False, False, False, False]],\n",
      "\n",
      "         [[False, False, False, False, False, False],\n",
      "          [False, False, False, False, False, False],\n",
      "          [False, False, False, False, False, False],\n",
      "          [False, False, False, False, False, False],\n",
      "          [False, False, False, False, False, False]]]])\n"
     ]
    }
   ],
   "source": [
    "a = torch.randn(5,4,5,6)\n",
    "b = torch.randn(5,1,1,6)\n",
    "\n",
    "print(a == b)"
   ]
  },
  {
   "cell_type": "code",
   "execution_count": 143,
   "metadata": {},
   "outputs": [
    {
     "name": "stdout",
     "output_type": "stream",
     "text": [
      "tensor([1., 2., 3., 4.])\n"
     ]
    }
   ],
   "source": [
    "a = torch.Tensor([1, 2, 3, 4])\n",
    "b = a[0:3]\n",
    "b = 6\n",
    "print(a)"
   ]
  },
  {
   "cell_type": "code",
   "execution_count": 142,
   "metadata": {},
   "outputs": [
    {
     "name": "stdout",
     "output_type": "stream",
     "text": [
      "[1 2 3 4]\n"
     ]
    }
   ],
   "source": [
    "a = np.array([1, 2, 3, 4])\n",
    "b = a + 1\n",
    "b[1] += 1\n",
    "print(a)"
   ]
  },
  {
   "cell_type": "code",
   "execution_count": 189,
   "metadata": {},
   "outputs": [
    {
     "name": "stdout",
     "output_type": "stream",
     "text": [
      "torch.Size([4])\n",
      "tensor([1., 2., 3.])\n"
     ]
    }
   ],
   "source": [
    "a = torch.Tensor([1, 2, 3, 4])\n",
    "print(a.shape)\n",
    "print(a[..., : 3])"
   ]
  },
  {
   "cell_type": "code",
   "execution_count": 159,
   "metadata": {},
   "outputs": [
    {
     "name": "stdout",
     "output_type": "stream",
     "text": [
      "torch.Size([2, 2, 5])\n"
     ]
    }
   ],
   "source": [
    "a = torch.randn(2, 2,5)\n",
    "a[1, 1, :] = torch.Tensor([1,1,1,1,1])\n",
    "\n",
    "print(a.shape)"
   ]
  },
  {
   "cell_type": "code",
   "execution_count": 191,
   "metadata": {},
   "outputs": [
    {
     "name": "stdout",
     "output_type": "stream",
     "text": [
      "tensor([24.])\n"
     ]
    }
   ],
   "source": [
    "a = torch.tensor([2.], requires_grad=True)\n",
    "c = 2*a*a*a\n",
    "d = c.clone()\n",
    "d.backward()\n",
    "print(a.grad)\n"
   ]
  },
  {
   "cell_type": "code",
   "execution_count": 192,
   "metadata": {},
   "outputs": [
    {
     "name": "stdout",
     "output_type": "stream",
     "text": [
      "tensor([24.])\n"
     ]
    }
   ],
   "source": [
    "a = torch.tensor([2.], requires_grad=True)\n",
    "c = 2*a*a*a\n",
    "c.backward()\n",
    "print(a.grad)"
   ]
  },
  {
   "cell_type": "code",
   "execution_count": 211,
   "metadata": {},
   "outputs": [
    {
     "name": "stdout",
     "output_type": "stream",
     "text": [
      "None\n"
     ]
    }
   ],
   "source": [
    "a = torch.tensor([2.], requires_grad=True)\n",
    "b = a*a*2\n",
    "with torch.no_grad():\n",
    "    a = a*2\n",
    "b.backward()\n",
    "print(a.grad)"
   ]
  },
  {
   "cell_type": "code",
   "execution_count": 18,
   "metadata": {},
   "outputs": [
    {
     "name": "stdout",
     "output_type": "stream",
     "text": [
      "torch.Size([2, 2, 5])\n"
     ]
    }
   ],
   "source": [
    "a = torch.randn(2,2,5)\n",
    "a.unsqueeze(4)\n",
    "print(a.shape)"
   ]
  },
  {
   "cell_type": "code",
   "execution_count": 26,
   "metadata": {},
   "outputs": [
    {
     "name": "stdout",
     "output_type": "stream",
     "text": [
      "tensor(0.)\n"
     ]
    }
   ],
   "source": [
    "a = torch.tensor(3.0424e-100)\n",
    "b = torch.tensor(3.0424e+100)\n",
    "print(a*a)"
   ]
  },
  {
   "cell_type": "code",
   "execution_count": null,
   "metadata": {},
   "outputs": [],
   "source": []
  }
 ],
 "metadata": {
  "kernelspec": {
   "display_name": "facial",
   "language": "python",
   "name": "python3"
  },
  "language_info": {
   "codemirror_mode": {
    "name": "ipython",
    "version": 3
   },
   "file_extension": ".py",
   "mimetype": "text/x-python",
   "name": "python",
   "nbconvert_exporter": "python",
   "pygments_lexer": "ipython3",
   "version": "3.9.16"
  },
  "orig_nbformat": 4
 },
 "nbformat": 4,
 "nbformat_minor": 2
}
